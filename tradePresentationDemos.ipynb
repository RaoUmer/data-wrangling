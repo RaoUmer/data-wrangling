{
 "metadata": {
  "name": "tradePresentationDemos"
 },
 "nbformat": 3,
 "nbformat_minor": 0,
 "worksheets": [
  {
   "cells": [
    {
     "cell_type": "code",
     "collapsed": false,
     "input": [
      "from __future__ import division\n",
      "import os\n",
      "from cPickle import load\n",
      "\n",
      "import pandas as pd\n",
      "import numpy as np\n",
      "import matplotlib.pyplot as plt"
     ],
     "language": "python",
     "metadata": {},
     "outputs": [
      {
       "output_type": "stream",
       "stream": "stderr",
       "text": [
        "/usr/local/Cellar/python/2.7.3/Frameworks/Python.framework/Versions/2.7/lib/python2.7/site-packages/pytz/__init__.py:35: UserWarning: Module multiprocessing was already imported from /usr/local/Cellar/python/2.7.3/Frameworks/Python.framework/Versions/2.7/lib/python2.7/multiprocessing/__init__.pyc, but /usr/local/lib/python2.7/site-packages is being added to sys.path\n",
        "  from pkg_resources import resource_stream\n"
       ]
      }
     ],
     "prompt_number": 1
    },
    {
     "cell_type": "code",
     "collapsed": false,
     "input": [
      "pd.set_printoptions(max_columns=10, notebook_repr_html=True)"
     ],
     "language": "python",
     "metadata": {},
     "outputs": [],
     "prompt_number": 2
    },
    {
     "cell_type": "markdown",
     "metadata": {},
     "source": [
      "# Sample Data"
     ]
    },
    {
     "cell_type": "code",
     "collapsed": false,
     "input": [
      "os.chdir('/Volumes/HDD/Users/tom/DataStorage/Comext')\n",
      "\n",
      "\n",
      "monthly = pd.HDFStore('monthly.h5')\n",
      "df = monthly['sep_10']\n",
      "df.head()"
     ],
     "language": "python",
     "metadata": {},
     "outputs": [
      {
       "html": [
        "<div style=\"max-height:1000px;max-width:1500px;overflow:auto;\">\n",
        "<table border=\"1\" class=\"dataframe\">\n",
        "  <thead>\n",
        "    <tr style=\"text-align: right;\">\n",
        "      <th></th>\n",
        "      <th></th>\n",
        "      <th></th>\n",
        "      <th></th>\n",
        "      <th></th>\n",
        "      <th></th>\n",
        "      <th>VALUE_1000ECU</th>\n",
        "      <th>QUANTITY_TON</th>\n",
        "      <th>SUP_QUANTITY</th>\n",
        "    </tr>\n",
        "    <tr>\n",
        "      <th>FLOW</th>\n",
        "      <th>PERIOD</th>\n",
        "      <th>DECLARANT</th>\n",
        "      <th>PRODUCT_NC</th>\n",
        "      <th>PARTNER</th>\n",
        "      <th>STAT_REGIME</th>\n",
        "      <th></th>\n",
        "      <th></th>\n",
        "      <th></th>\n",
        "    </tr>\n",
        "  </thead>\n",
        "  <tbody>\n",
        "    <tr>\n",
        "      <td><strong>1</strong></td>\n",
        "      <td><strong>2010-09-01</strong></td>\n",
        "      <td><strong>001</strong></td>\n",
        "      <td><strong>01</strong></td>\n",
        "      <td><strong>3</strong></td>\n",
        "      <td><strong>4</strong></td>\n",
        "      <td> 3741.08</td>\n",
        "      <td> 1359.2</td>\n",
        "      <td>   0</td>\n",
        "    </tr>\n",
        "    <tr>\n",
        "      <td><strong>2</strong></td>\n",
        "      <td><strong>2010-09-01</strong></td>\n",
        "      <td><strong>001</strong></td>\n",
        "      <td><strong>01</strong></td>\n",
        "      <td><strong>3</strong></td>\n",
        "      <td><strong>4</strong></td>\n",
        "      <td> 1123.16</td>\n",
        "      <td>  256.4</td>\n",
        "      <td>   0</td>\n",
        "    </tr>\n",
        "    <tr>\n",
        "      <td><strong>1</strong></td>\n",
        "      <td><strong>2010-09-01</strong></td>\n",
        "      <td><strong>001</strong></td>\n",
        "      <td><strong>01011010</strong></td>\n",
        "      <td><strong>3</strong></td>\n",
        "      <td><strong>4</strong></td>\n",
        "      <td>    6.99</td>\n",
        "      <td>    1.4</td>\n",
        "      <td>   2</td>\n",
        "    </tr>\n",
        "    <tr>\n",
        "      <td rowspan=\"2\" valign=\"top\"><strong>2</strong></td>\n",
        "      <td rowspan=\"2\" valign=\"top\"><strong>2010-09-01</strong></td>\n",
        "      <td rowspan=\"2\" valign=\"top\"><strong>001</strong></td>\n",
        "      <td><strong>01011010</strong></td>\n",
        "      <td><strong>3</strong></td>\n",
        "      <td><strong>4</strong></td>\n",
        "      <td>  141.33</td>\n",
        "      <td>    1.2</td>\n",
        "      <td>   4</td>\n",
        "    </tr>\n",
        "    <tr>\n",
        "      <td><strong>01011090</strong></td>\n",
        "      <td><strong>3</strong></td>\n",
        "      <td><strong>4</strong></td>\n",
        "      <td>    8.19</td>\n",
        "      <td>    0.6</td>\n",
        "      <td> 100</td>\n",
        "    </tr>\n",
        "  </tbody>\n",
        "</table>\n",
        "</div>"
       ],
       "output_type": "pyout",
       "prompt_number": 5,
       "text": [
        "                                                          VALUE_1000ECU  QUANTITY_TON  SUP_QUANTITY\n",
        "FLOW PERIOD     DECLARANT PRODUCT_NC PARTNER STAT_REGIME                                           \n",
        "1    2010-09-01 001       01         3       4                  3741.08        1359.2             0\n",
        "2    2010-09-01 001       01         3       4                  1123.16         256.4             0\n",
        "1    2010-09-01 001       01011010   3       4                     6.99           1.4             2\n",
        "2    2010-09-01 001       01011010   3       4                   141.33           1.2             4\n",
        "                          01011090   3       4                     8.19           0.6           100"
       ]
      }
     ],
     "prompt_number": 5
    },
    {
     "cell_type": "code",
     "collapsed": false,
     "input": [
      "os.chdir('yearly')"
     ],
     "language": "python",
     "metadata": {},
     "outputs": [],
     "prompt_number": 6
    },
    {
     "cell_type": "code",
     "collapsed": false,
     "input": [
      "yearly = pd.HDFStore('yearly.h5')\n",
      "df = yearly['y2011']\n",
      "df.head()"
     ],
     "language": "python",
     "metadata": {},
     "outputs": [
      {
       "html": [
        "<div style=\"max-height:1000px;max-width:1500px;overflow:auto;\">\n",
        "<table border=\"1\" class=\"dataframe\">\n",
        "  <thead>\n",
        "    <tr style=\"text-align: right;\">\n",
        "      <th></th>\n",
        "      <th></th>\n",
        "      <th></th>\n",
        "      <th></th>\n",
        "      <th></th>\n",
        "      <th>STAT_REGIME</th>\n",
        "      <th>VALUE_1000ECU</th>\n",
        "      <th>QUANTITY_TON</th>\n",
        "      <th>SUP_QUANTITY</th>\n",
        "    </tr>\n",
        "    <tr>\n",
        "      <th>FLOW</th>\n",
        "      <th>PERIOD</th>\n",
        "      <th>PRODUCT_NC</th>\n",
        "      <th>DECLARANT</th>\n",
        "      <th>PARTNER</th>\n",
        "      <th></th>\n",
        "      <th></th>\n",
        "      <th></th>\n",
        "      <th></th>\n",
        "    </tr>\n",
        "  </thead>\n",
        "  <tbody>\n",
        "    <tr>\n",
        "      <td rowspan=\"5\" valign=\"top\"><strong>1</strong></td>\n",
        "      <td rowspan=\"5\" valign=\"top\"><strong>201152</strong></td>\n",
        "      <td rowspan=\"5\" valign=\"top\"><strong>01</strong></td>\n",
        "      <td rowspan=\"5\" valign=\"top\"><strong>001</strong></td>\n",
        "      <td><strong>3</strong></td>\n",
        "      <td> 4</td>\n",
        "      <td> 47949.05</td>\n",
        "      <td> 10019.7</td>\n",
        "      <td> 0</td>\n",
        "    </tr>\n",
        "    <tr>\n",
        "      <td><strong>4</strong></td>\n",
        "      <td> 4</td>\n",
        "      <td> 17473.80</td>\n",
        "      <td>  2724.0</td>\n",
        "      <td> 0</td>\n",
        "    </tr>\n",
        "    <tr>\n",
        "      <td><strong>5</strong></td>\n",
        "      <td> 4</td>\n",
        "      <td>  6537.12</td>\n",
        "      <td>   369.9</td>\n",
        "      <td> 0</td>\n",
        "    </tr>\n",
        "    <tr>\n",
        "      <td><strong>6</strong></td>\n",
        "      <td> 4</td>\n",
        "      <td> 35249.45</td>\n",
        "      <td>  1413.6</td>\n",
        "      <td> 0</td>\n",
        "    </tr>\n",
        "    <tr>\n",
        "      <td><strong>7</strong></td>\n",
        "      <td> 4</td>\n",
        "      <td>  5380.30</td>\n",
        "      <td>   126.2</td>\n",
        "      <td> 0</td>\n",
        "    </tr>\n",
        "  </tbody>\n",
        "</table>\n",
        "</div>"
       ],
       "output_type": "pyout",
       "prompt_number": 7,
       "text": [
        "                                          STAT_REGIME  VALUE_1000ECU  QUANTITY_TON  SUP_QUANTITY\n",
        "FLOW PERIOD PRODUCT_NC DECLARANT PARTNER                                                        \n",
        "1    201152 01         001       3                  4       47949.05       10019.7             0\n",
        "                                 4                  4       17473.80        2724.0             0\n",
        "                                 5                  4        6537.12         369.9             0\n",
        "                                 6                  4       35249.45        1413.6             0\n",
        "                                 7                  4        5380.30         126.2             0"
       ]
      }
     ],
     "prompt_number": 7
    },
    {
     "cell_type": "code",
     "collapsed": false,
     "input": [
      "df.xs((1, 201152, '01', '001'), level=('FLOW', 'PERIOD', 'PRODUCT_NC', 'DECLARANT'))['VALUE_1000ECU']"
     ],
     "language": "python",
     "metadata": {},
     "outputs": [
      {
       "output_type": "pyout",
       "prompt_number": 8,
       "text": [
        "PARTNER\n",
        "3           47949.05\n",
        "4           17473.80\n",
        "5            6537.12\n",
        "6           35249.45\n",
        "7            5380.30\n",
        "8            2409.74\n",
        "9              21.91\n",
        "10             50.61\n",
        "11          48327.12\n",
        "17          38339.10\n",
        "18            225.99\n",
        "24              6.12\n",
        "28              4.72\n",
        "30            605.49\n",
        "32             13.00\n",
        "38             56.36\n",
        "39              8.39\n",
        "39           1061.71\n",
        "43              1.30\n",
        "52            461.92\n",
        "55              4.00\n",
        "60           1801.77\n",
        "61           1448.02\n",
        "63             34.02\n",
        "64           4748.67\n",
        "66           1388.92\n",
        "68             58.31\n",
        "72             15.22\n",
        "75            137.82\n",
        "79              0.08\n",
        "81             19.03\n",
        "91             17.79\n",
        "96             25.70\n",
        "204            88.12\n",
        "208             5.48\n",
        "212            49.14\n",
        "220            64.19\n",
        "272             0.50\n",
        "276             9.80\n",
        "280            64.64\n",
        "284             1.76\n",
        "346             7.25\n",
        "352             4.11\n",
        "355            25.11\n",
        "370            36.42\n",
        "373          7883.45\n",
        "378            14.21\n",
        "382             0.50\n",
        "388             6.46\n",
        "400          8699.33\n",
        "404           669.74\n",
        "428            12.13\n",
        "432             3.92\n",
        "469           323.50\n",
        "480             8.13\n",
        "508            10.46\n",
        "512            34.43\n",
        "524             3.80\n",
        "528           213.94\n",
        "624           108.35\n",
        "628            14.20\n",
        "632            36.72\n",
        "644            73.22\n",
        "647          2438.20\n",
        "649            29.58\n",
        "662             0.00\n",
        "664             0.00\n",
        "669             0.00\n",
        "680             0.50\n",
        "690          2422.91\n",
        "700            25.88\n",
        "701            16.21\n",
        "706             8.96\n",
        "708           405.40\n",
        "720          2862.65\n",
        "728            15.11\n",
        "732           973.63\n",
        "736             0.49\n",
        "740             4.23\n",
        "800            11.23\n",
        "804            60.74\n",
        "809             5.50\n",
        "822             2.00\n",
        "951             0.50\n",
        "1010       212141.04\n",
        "1011            8.39\n",
        "1011        29489.85\n",
        "Name: VALUE_1000ECU, Length: 87"
       ]
      }
     ],
     "prompt_number": 8
    },
    {
     "cell_type": "code",
     "collapsed": false,
     "input": [
      "with open('product_dict.pkl', 'r') as f:\n",
      "    d = load(f)"
     ],
     "language": "python",
     "metadata": {},
     "outputs": [],
     "prompt_number": 9
    },
    {
     "cell_type": "code",
     "collapsed": false,
     "input": [
      "#d"
     ],
     "language": "python",
     "metadata": {},
     "outputs": [],
     "prompt_number": 10
    },
    {
     "cell_type": "code",
     "collapsed": false,
     "input": [
      "df"
     ],
     "language": "python",
     "metadata": {},
     "outputs": [
      {
       "output_type": "pyout",
       "prompt_number": 11,
       "text": [
        "<class 'pandas.core.frame.DataFrame'>\n",
        "MultiIndex: 10430373 entries, (1, 201152, 01, 001, 3) to (2, 201152, TOTAL, EU, 1011)\n",
        "Data columns:\n",
        "STAT_REGIME      10430373  non-null values\n",
        "VALUE_1000ECU    10430373  non-null values\n",
        "QUANTITY_TON     10430373  non-null values\n",
        "SUP_QUANTITY     10430373  non-null values\n",
        "dtypes: float64(2), int64(2)"
       ]
      }
     ],
     "prompt_number": 11
    },
    {
     "cell_type": "code",
     "collapsed": false,
     "input": [
      "len(df) * 9 * 5"
     ],
     "language": "python",
     "metadata": {},
     "outputs": [
      {
       "output_type": "pyout",
       "prompt_number": 13,
       "text": [
        "469366785"
       ]
      }
     ],
     "prompt_number": 13
    },
    {
     "cell_type": "markdown",
     "metadata": {},
     "source": [
      "#Data Exploration"
     ]
    },
    {
     "cell_type": "code",
     "collapsed": false,
     "input": [
      "df = pd.read_csv('/Users/tom/TradeData/data-wrangling/Eurostat/national-accounts/namq_gdp_c-1/na_accts_clean.csv',\n",
      "    index_col=['geo', 'quarter'], parse_dates=[0])\n",
      "df.head()"
     ],
     "language": "python",
     "metadata": {},
     "outputs": [
      {
       "html": [
        "<div style=\"max-height:1000px;max-width:1500px;overflow:auto;\">\n",
        "<table border=\"1\" class=\"dataframe\">\n",
        "  <thead>\n",
        "    <tr style=\"text-align: right;\">\n",
        "      <th></th>\n",
        "      <th></th>\n",
        "      <th>gdp</th>\n",
        "      <th>imports</th>\n",
        "      <th>exports</th>\n",
        "    </tr>\n",
        "    <tr>\n",
        "      <th>geo</th>\n",
        "      <th>quarter</th>\n",
        "      <th></th>\n",
        "      <th></th>\n",
        "      <th></th>\n",
        "    </tr>\n",
        "  </thead>\n",
        "  <tbody>\n",
        "    <tr>\n",
        "      <td rowspan=\"5\" valign=\"top\"><strong>Austria</strong></td>\n",
        "      <td><strong>2006-06-01</strong></td>\n",
        "      <td> 63746.1</td>\n",
        "      <td> 32892.6</td>\n",
        "      <td> 35112.3</td>\n",
        "    </tr>\n",
        "    <tr>\n",
        "      <td><strong>2006-09-01</strong></td>\n",
        "      <td> 66519.7</td>\n",
        "      <td> 34340.9</td>\n",
        "      <td> 36026.0</td>\n",
        "    </tr>\n",
        "    <tr>\n",
        "      <td><strong>2006-12-01</strong></td>\n",
        "      <td> 67184.0</td>\n",
        "      <td> 35061.2</td>\n",
        "      <td> 38669.9</td>\n",
        "    </tr>\n",
        "    <tr>\n",
        "      <td><strong>2007-03-01</strong></td>\n",
        "      <td> 65386.9</td>\n",
        "      <td> 34593.7</td>\n",
        "      <td> 40531.9</td>\n",
        "    </tr>\n",
        "    <tr>\n",
        "      <td><strong>2007-06-01</strong></td>\n",
        "      <td> 67991.4</td>\n",
        "      <td> 35509.2</td>\n",
        "      <td> 39025.5</td>\n",
        "    </tr>\n",
        "  </tbody>\n",
        "</table>\n",
        "</div>"
       ],
       "output_type": "pyout",
       "prompt_number": 14,
       "text": [
        "                        gdp  imports  exports\n",
        "geo     quarter                              \n",
        "Austria 2006-06-01  63746.1  32892.6  35112.3\n",
        "        2006-09-01  66519.7  34340.9  36026.0\n",
        "        2006-12-01  67184.0  35061.2  38669.9\n",
        "        2007-03-01  65386.9  34593.7  40531.9\n",
        "        2007-06-01  67991.4  35509.2  39025.5"
       ]
      }
     ],
     "prompt_number": 14
    },
    {
     "cell_type": "code",
     "collapsed": false,
     "input": [
      "# Summary Plots for change in gdp & imports for a subset.\n",
      "subset = ['Germany', 'France', 'Greece', 'Italy', 'Spain', 'United Kingdom']\n",
      "df['gdp'].ix[subset].unstack(level=0).pct_change(4).plot(grid=True, xlim=('2007-03-01', '2012-06-01'), figsize=(16, 10), title='Percent Change in GDP')"
     ],
     "language": "python",
     "metadata": {},
     "outputs": [
      {
       "output_type": "pyout",
       "prompt_number": 16,
       "text": [
        "<matplotlib.axes.AxesSubplot at 0x18178d590>"
       ]
      }
     ],
     "prompt_number": 16
    },
    {
     "cell_type": "code",
     "collapsed": false,
     "input": [
      "for country in subset:\n",
      "    df[['gdp', 'imports', 'exports']].ix[country].pct_change(4).plot(\n",
      "        title='Percent Change for %s' % country, grid=True, xlim=('2007-03-01', '2012-06-01'), figsize=(16,10))"
     ],
     "language": "python",
     "metadata": {},
     "outputs": [],
     "prompt_number": 17
    },
    {
     "cell_type": "code",
     "collapsed": false,
     "input": [
      "plt.close('all')"
     ],
     "language": "python",
     "metadata": {},
     "outputs": [],
     "prompt_number": 18
    },
    {
     "cell_type": "code",
     "collapsed": false,
     "input": [
      "def max_drop(x):\n",
      "    return (x.index[x.pct_change(4).dropna().argmin()], x.pct_change(4).dropna().min())"
     ],
     "language": "python",
     "metadata": {},
     "outputs": [],
     "prompt_number": 19
    },
    {
     "cell_type": "code",
     "collapsed": false,
     "input": [
      "x = df['gdp'].unstack(0).apply(max_drop)\n",
      "x = pd.DataFrame(x, columns=['tups'])\n",
      "l1 = []\n",
      "for t in x['tups']:\n",
      "    l1.append(str(t[0].year) + 'Q' + str(t[0].quarter))\n",
      "\n",
      "x['max_drop'] = l1\n",
      "x['max_drop'].value_counts().plot(kind='bar', rot=45, figsize=(16, 10))"
     ],
     "language": "python",
     "metadata": {},
     "outputs": [
      {
       "output_type": "pyout",
       "prompt_number": 20,
       "text": [
        "<matplotlib.axes.AxesSubplot at 0x1695f0c50>"
       ]
      }
     ],
     "prompt_number": 20
    },
    {
     "cell_type": "markdown",
     "metadata": {},
     "source": [
      "#Simple Trade Wedge: $\\hat{y}^f = \\varepsilon(\\hat{P} - \\hat{p}^f) + (\\hat{C + I})$"
     ]
    },
    {
     "cell_type": "code",
     "collapsed": false,
     "input": [
      "df = pd.read_csv('/Users/tom/TradeData/data-wrangling/Eurostat/trade_wedge/trade_wedge_clean.csv', index_col=['TIME', 'GEO'], parse_dates=[0])\n",
      "\n",
      "e = [1.5, 6]\n",
      "\n",
      "def trade_wedge(q1, q2, e=e[0]):\n",
      "    \"\"\"\n",
      "    All in log changes.\n",
      "    hat{y^f} = e * (hat{P} - hat{p^f}) + hat{(C + I)}\n",
      "\n",
      "    hat: (log) change\n",
      "    y^f : (real) demand for imports\n",
      "    e : elasticity of substitution\n",
      "    P : GDP deflator (not log?)\n",
      "    p^f : import price deflator (not log?)\n",
      "    C + I : Domestic final demand (real consumption + real investment)\n",
      "\n",
      "    Suggested values for e = {1.5, 6}\n",
      "    \"\"\"\n",
      "\n",
      "    imp_delta = np.log(df['imports_c'].ix[q2]) - np.log(df['imports_c'].ix[q1])\n",
      "\n",
      "    gdp_def_delta = np.log((df['gdp_n'].ix[q2] / df['gdp_c'].ix[q2]) * 100) - np.log((\n",
      "        df['gdp_n'].ix[q1] / df['gdp_c'].ix[q1]) * 100)\n",
      "\n",
      "    imp_def_delta = np.log((df['imports_n'].ix[q2] / df['imports_c'].ix[q2]) * 100) - np.log((\n",
      "        df['imports_n'].ix[q1] / df['imports_c'].ix[q1]) * 100)\n",
      "\n",
      "    demand_delta = np.log(df['demand_c'].ix[q2]) - np.log(df['demand_c'].ix[q1])\n",
      "\n",
      "    wedge = imp_delta - e * (gdp_def_delta - imp_def_delta) + demand_delta\n",
      "\n",
      "    wedge = wedge.rename({'Euro area (17 countries)': 'EU17',\n",
      "                'European Union (27 countries)': 'EU27',\n",
      "                'Former Yugoslav Republic of Macedonia, the': 'Macedonia',\n",
      "                'Germany (including  former GDR from 1991)': 'Germany'\n",
      "                })\n",
      "    return wedge"
     ],
     "language": "python",
     "metadata": {},
     "outputs": [],
     "prompt_number": 17
    },
    {
     "cell_type": "code",
     "collapsed": false,
     "input": [],
     "language": "python",
     "metadata": {},
     "outputs": []
    },
    {
     "cell_type": "code",
     "collapsed": false,
     "input": [
      "wedges = trade_wedge('2008-06-01', '2009-06-01')\n",
      "fig = wedges.order(ascending=False).plot(kind='barh')\n",
      "# plt.savefig('/Users/tom/TradeData/data-wrangling/paper/figures/trade_wedge_1and5.png', dpi=250)"
     ],
     "language": "python",
     "metadata": {},
     "outputs": [
      {
       "ename": "AttributeError",
       "evalue": "'str' object has no attribute 'get_animated'",
       "output_type": "pyerr",
       "traceback": [
        "\u001b[0;31m---------------------------------------------------------------------------\u001b[0m\n\u001b[0;31mAttributeError\u001b[0m                            Traceback (most recent call last)",
        "\u001b[0;32m/usr/local/Cellar/python/2.7.3/Frameworks/Python.framework/Versions/2.7/lib/python2.7/site-packages/matplotlib/artist.pyc\u001b[0m in \u001b[0;36mdraw_wrapper\u001b[0;34m(artist, renderer, *args, **kwargs)\u001b[0m\n\u001b[1;32m     53\u001b[0m     \u001b[0;32mdef\u001b[0m \u001b[0mdraw_wrapper\u001b[0m\u001b[0;34m(\u001b[0m\u001b[0martist\u001b[0m\u001b[0;34m,\u001b[0m \u001b[0mrenderer\u001b[0m\u001b[0;34m,\u001b[0m \u001b[0;34m*\u001b[0m\u001b[0margs\u001b[0m\u001b[0;34m,\u001b[0m \u001b[0;34m**\u001b[0m\u001b[0mkwargs\u001b[0m\u001b[0;34m)\u001b[0m\u001b[0;34m:\u001b[0m\u001b[0;34m\u001b[0m\u001b[0m\n\u001b[1;32m     54\u001b[0m         \u001b[0mbefore\u001b[0m\u001b[0;34m(\u001b[0m\u001b[0martist\u001b[0m\u001b[0;34m,\u001b[0m \u001b[0mrenderer\u001b[0m\u001b[0;34m)\u001b[0m\u001b[0;34m\u001b[0m\u001b[0m\n\u001b[0;32m---> 55\u001b[0;31m         \u001b[0mdraw\u001b[0m\u001b[0;34m(\u001b[0m\u001b[0martist\u001b[0m\u001b[0;34m,\u001b[0m \u001b[0mrenderer\u001b[0m\u001b[0;34m,\u001b[0m \u001b[0;34m*\u001b[0m\u001b[0margs\u001b[0m\u001b[0;34m,\u001b[0m \u001b[0;34m**\u001b[0m\u001b[0mkwargs\u001b[0m\u001b[0;34m)\u001b[0m\u001b[0;34m\u001b[0m\u001b[0m\n\u001b[0m\u001b[1;32m     56\u001b[0m         \u001b[0mafter\u001b[0m\u001b[0;34m(\u001b[0m\u001b[0martist\u001b[0m\u001b[0;34m,\u001b[0m \u001b[0mrenderer\u001b[0m\u001b[0;34m)\u001b[0m\u001b[0;34m\u001b[0m\u001b[0m\n\u001b[1;32m     57\u001b[0m \u001b[0;34m\u001b[0m\u001b[0m\n",
        "\u001b[0;32m/usr/local/Cellar/python/2.7.3/Frameworks/Python.framework/Versions/2.7/lib/python2.7/site-packages/matplotlib/figure.pyc\u001b[0m in \u001b[0;36mdraw\u001b[0;34m(self, renderer)\u001b[0m\n\u001b[1;32m    925\u001b[0m         \u001b[0mdsu\u001b[0m\u001b[0;34m.\u001b[0m\u001b[0msort\u001b[0m\u001b[0;34m(\u001b[0m\u001b[0mkey\u001b[0m\u001b[0;34m=\u001b[0m\u001b[0mitemgetter\u001b[0m\u001b[0;34m(\u001b[0m\u001b[0;36m0\u001b[0m\u001b[0;34m)\u001b[0m\u001b[0;34m)\u001b[0m\u001b[0;34m\u001b[0m\u001b[0m\n\u001b[1;32m    926\u001b[0m         \u001b[0;32mfor\u001b[0m \u001b[0mzorder\u001b[0m\u001b[0;34m,\u001b[0m \u001b[0ma\u001b[0m\u001b[0;34m,\u001b[0m \u001b[0mfunc\u001b[0m\u001b[0;34m,\u001b[0m \u001b[0margs\u001b[0m \u001b[0;32min\u001b[0m \u001b[0mdsu\u001b[0m\u001b[0;34m:\u001b[0m\u001b[0;34m\u001b[0m\u001b[0m\n\u001b[0;32m--> 927\u001b[0;31m             \u001b[0mfunc\u001b[0m\u001b[0;34m(\u001b[0m\u001b[0;34m*\u001b[0m\u001b[0margs\u001b[0m\u001b[0;34m)\u001b[0m\u001b[0;34m\u001b[0m\u001b[0m\n\u001b[0m\u001b[1;32m    928\u001b[0m \u001b[0;34m\u001b[0m\u001b[0m\n\u001b[1;32m    929\u001b[0m         \u001b[0mrenderer\u001b[0m\u001b[0;34m.\u001b[0m\u001b[0mclose_group\u001b[0m\u001b[0;34m(\u001b[0m\u001b[0;34m'figure'\u001b[0m\u001b[0;34m)\u001b[0m\u001b[0;34m\u001b[0m\u001b[0m\n",
        "\u001b[0;32m/usr/local/Cellar/python/2.7.3/Frameworks/Python.framework/Versions/2.7/lib/python2.7/site-packages/matplotlib/artist.pyc\u001b[0m in \u001b[0;36mdraw_wrapper\u001b[0;34m(artist, renderer, *args, **kwargs)\u001b[0m\n\u001b[1;32m     53\u001b[0m     \u001b[0;32mdef\u001b[0m \u001b[0mdraw_wrapper\u001b[0m\u001b[0;34m(\u001b[0m\u001b[0martist\u001b[0m\u001b[0;34m,\u001b[0m \u001b[0mrenderer\u001b[0m\u001b[0;34m,\u001b[0m \u001b[0;34m*\u001b[0m\u001b[0margs\u001b[0m\u001b[0;34m,\u001b[0m \u001b[0;34m**\u001b[0m\u001b[0mkwargs\u001b[0m\u001b[0;34m)\u001b[0m\u001b[0;34m:\u001b[0m\u001b[0;34m\u001b[0m\u001b[0m\n\u001b[1;32m     54\u001b[0m         \u001b[0mbefore\u001b[0m\u001b[0;34m(\u001b[0m\u001b[0martist\u001b[0m\u001b[0;34m,\u001b[0m \u001b[0mrenderer\u001b[0m\u001b[0;34m)\u001b[0m\u001b[0;34m\u001b[0m\u001b[0m\n\u001b[0;32m---> 55\u001b[0;31m         \u001b[0mdraw\u001b[0m\u001b[0;34m(\u001b[0m\u001b[0martist\u001b[0m\u001b[0;34m,\u001b[0m \u001b[0mrenderer\u001b[0m\u001b[0;34m,\u001b[0m \u001b[0;34m*\u001b[0m\u001b[0margs\u001b[0m\u001b[0;34m,\u001b[0m \u001b[0;34m**\u001b[0m\u001b[0mkwargs\u001b[0m\u001b[0;34m)\u001b[0m\u001b[0;34m\u001b[0m\u001b[0m\n\u001b[0m\u001b[1;32m     56\u001b[0m         \u001b[0mafter\u001b[0m\u001b[0;34m(\u001b[0m\u001b[0martist\u001b[0m\u001b[0;34m,\u001b[0m \u001b[0mrenderer\u001b[0m\u001b[0;34m)\u001b[0m\u001b[0;34m\u001b[0m\u001b[0m\n\u001b[1;32m     57\u001b[0m \u001b[0;34m\u001b[0m\u001b[0m\n",
        "\u001b[0;32m/usr/local/Cellar/python/2.7.3/Frameworks/Python.framework/Versions/2.7/lib/python2.7/site-packages/matplotlib/axes.pyc\u001b[0m in \u001b[0;36mdraw\u001b[0;34m(self, renderer, inframe)\u001b[0m\n\u001b[1;32m   1930\u001b[0m \u001b[0;34m\u001b[0m\u001b[0m\n\u001b[1;32m   1931\u001b[0m         dsu = [ (a.zorder, a) for a in artists\n\u001b[0;32m-> 1932\u001b[0;31m                 if not a.get_animated() ]\n\u001b[0m\u001b[1;32m   1933\u001b[0m \u001b[0;34m\u001b[0m\u001b[0m\n\u001b[1;32m   1934\u001b[0m         \u001b[0;31m# add images to dsu if the backend support compositing.\u001b[0m\u001b[0;34m\u001b[0m\u001b[0;34m\u001b[0m\u001b[0m\n",
        "\u001b[0;31mAttributeError\u001b[0m: 'str' object has no attribute 'get_animated'"
       ]
      }
     ],
     "prompt_number": 36
    },
    {
     "cell_type": "code",
     "collapsed": false,
     "input": [
      "plt.figure()\n",
      "wedges_6 = trade_wedge('2008-06-01', '2009-06-01', e=6)\n",
      "wedges_6.order(ascending=False).plot(kind='barh', figsize=(20,20))"
     ],
     "language": "python",
     "metadata": {},
     "outputs": [
      {
       "output_type": "pyout",
       "prompt_number": 9,
       "text": [
        "<matplotlib.axes.AxesSubplot at 0x1099b0a90>"
       ]
      }
     ],
     "prompt_number": 9
    },
    {
     "cell_type": "code",
     "collapsed": false,
     "input": [
      "df = pd.read_csv('/Volumes/HDD/Users/tom/DataStorage/Eurostat/supply_use_tables/naio_cp15_r2.tsv',\n",
      "        na_values=[':', ' :', ': '], sep=',|s*\\t',\n",
      "        index_col=['unit', 'geo\\\\time', 't_cols2', 't_rows2'])\n",
      "\n",
      "df.columns = [int(x.strip(' ')) for x in df.columns]\n",
      "df.index.names = ['unit', 'geo', 'industry', 'input']\n",
      "df2 = df[2008]\n",
      "df2 = df2.unstack(level='industry')\n",
      "\n",
      "\n"
     ],
     "language": "python",
     "metadata": {},
     "outputs": [],
     "prompt_number": 28
    },
    {
     "cell_type": "code",
     "collapsed": false,
     "input": [
      "def heatmap(df, cmap=plt.cm.gray_r):\n",
      "    fig = plt.figure()\n",
      "    ax = fig.add_subplot(111)\n",
      "    axim = ax.imshow(df.values, cmap=cmap, interpolation='nearest')\n",
      "    ax.set_xlabel(df.columns.name)\n",
      "    ax.set_xticks(4 * np.arange(len(df.columns)/4))\n",
      "    ax.set_xticklabels(list(df.columns))\n",
      "    ax.set_ylabel(df.index.name)\n",
      "    ax.set_yticks(4 * np.arange(len(df.index)/4))\n",
      "    ax.set_yticklabels(list(df.index))\n",
      "    plt.colorbar(axim)"
     ],
     "language": "python",
     "metadata": {},
     "outputs": [],
     "prompt_number": 29
    },
    {
     "cell_type": "code",
     "collapsed": false,
     "input": [
      "df3 = df2.ix['MIO_EUR', 'AT'].astype('float')\n",
      "df3 = df3.fillna(0)\n",
      "heatmap(df3, plt.cm.jet)\n"
     ],
     "language": "python",
     "metadata": {},
     "outputs": [],
     "prompt_number": 31
    },
    {
     "cell_type": "code",
     "collapsed": false,
     "input": [],
     "language": "python",
     "metadata": {},
     "outputs": []
    }
   ],
   "metadata": {}
  }
 ]
}