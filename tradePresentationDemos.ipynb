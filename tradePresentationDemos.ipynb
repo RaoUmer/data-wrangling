{
 "metadata": {
  "name": "tradePresentationDemos"
 },
 "nbformat": 3,
 "nbformat_minor": 0,
 "worksheets": [
  {
   "cells": [
    {
     "cell_type": "code",
     "collapsed": false,
     "input": [
      "from __future__ import division\n",
      "import os\n",
      "from cPickle import load\n",
      "\n",
      "import pandas as pd\n",
      "import numpy as np\n",
      "import matplotlib.pyplot as plt"
     ],
     "language": "python",
     "metadata": {},
     "outputs": [],
     "prompt_number": 114
    },
    {
     "cell_type": "markdown",
     "metadata": {},
     "source": [
      "#Data Exploration"
     ]
    },
    {
     "cell_type": "code",
     "collapsed": false,
     "input": [
      "df = pd.read_csv('/Users/tom/TradeData/data-wrangling/Eurostat/national-accounts/namq_gdp_c-1/na_accts_clean.csv',\n",
      "    index_col=['geo', 'quarter'], parse_dates=[0])\n",
      "df.head()"
     ],
     "language": "python",
     "metadata": {},
     "outputs": [
      {
       "html": [
        "<div style=\"max-height:1000px;max-width:1500px;overflow:auto;\">\n",
        "<table border=\"1\" class=\"dataframe\">\n",
        "  <thead>\n",
        "    <tr style=\"text-align: right;\">\n",
        "      <th></th>\n",
        "      <th></th>\n",
        "      <th>gdp</th>\n",
        "      <th>imports</th>\n",
        "      <th>exports</th>\n",
        "    </tr>\n",
        "    <tr>\n",
        "      <th>geo</th>\n",
        "      <th>quarter</th>\n",
        "      <th></th>\n",
        "      <th></th>\n",
        "      <th></th>\n",
        "    </tr>\n",
        "  </thead>\n",
        "  <tbody>\n",
        "    <tr>\n",
        "      <td rowspan=\"5\" valign=\"top\"><strong>Austria</strong></td>\n",
        "      <td><strong>2006-06-01</strong></td>\n",
        "      <td> 63746.1</td>\n",
        "      <td> 32892.6</td>\n",
        "      <td> 35112.3</td>\n",
        "    </tr>\n",
        "    <tr>\n",
        "      <td><strong>2006-09-01</strong></td>\n",
        "      <td> 66519.7</td>\n",
        "      <td> 34340.9</td>\n",
        "      <td> 36026.0</td>\n",
        "    </tr>\n",
        "    <tr>\n",
        "      <td><strong>2006-12-01</strong></td>\n",
        "      <td> 67184.0</td>\n",
        "      <td> 35061.2</td>\n",
        "      <td> 38669.9</td>\n",
        "    </tr>\n",
        "    <tr>\n",
        "      <td><strong>2007-03-01</strong></td>\n",
        "      <td> 65386.9</td>\n",
        "      <td> 34593.7</td>\n",
        "      <td> 40531.9</td>\n",
        "    </tr>\n",
        "    <tr>\n",
        "      <td><strong>2007-06-01</strong></td>\n",
        "      <td> 67991.4</td>\n",
        "      <td> 35509.2</td>\n",
        "      <td> 39025.5</td>\n",
        "    </tr>\n",
        "  </tbody>\n",
        "</table>\n",
        "</div>"
       ],
       "output_type": "pyout",
       "prompt_number": 86,
       "text": [
        "                        gdp  imports  exports\n",
        "geo     quarter                              \n",
        "Austria 2006-06-01  63746.1  32892.6  35112.3\n",
        "        2006-09-01  66519.7  34340.9  36026.0\n",
        "        2006-12-01  67184.0  35061.2  38669.9\n",
        "        2007-03-01  65386.9  34593.7  40531.9\n",
        "        2007-06-01  67991.4  35509.2  39025.5"
       ]
      }
     ],
     "prompt_number": 86
    },
    {
     "cell_type": "code",
     "collapsed": false,
     "input": [
      "# Summary Plots for change in gdp & imports for a subset.\n",
      "subset = ['Germany', 'France', 'Greece', 'Italy', 'Spain', 'United Kingdom']\n",
      "df['gdp'].ix[subset].unstack(level=0).pct_change(4).plot(grid=True, xlim=('2007-03-01', '2012-06-01'), figsize=(16, 10))"
     ],
     "language": "python",
     "metadata": {},
     "outputs": [
      {
       "output_type": "pyout",
       "prompt_number": 88,
       "text": [
        "<matplotlib.axes.AxesSubplot at 0x111a92850>"
       ]
      }
     ],
     "prompt_number": 88
    },
    {
     "cell_type": "code",
     "collapsed": false,
     "input": [
      "for country in subset:\n",
      "    df[['gdp', 'imports', 'exports']].ix[country].pct_change(4).plot(\n",
      "        title='Percent Change for %s' % country, grid=True, xlim=('2007-03-01', '2012-06-01'), figsize=(16,10))"
     ],
     "language": "python",
     "metadata": {},
     "outputs": [],
     "prompt_number": 89
    },
    {
     "cell_type": "code",
     "collapsed": false,
     "input": [
      "plt.close('all')"
     ],
     "language": "python",
     "metadata": {},
     "outputs": [],
     "prompt_number": 90
    },
    {
     "cell_type": "code",
     "collapsed": false,
     "input": [
      "def max_drop(x):\n",
      "    return (x.index[x.pct_change(4).dropna().argmin()], x.pct_change(4).dropna().min())"
     ],
     "language": "python",
     "metadata": {},
     "outputs": [],
     "prompt_number": 91
    },
    {
     "cell_type": "code",
     "collapsed": false,
     "input": [
      "x = df['gdp'].unstack(0).apply(max_drop)\n",
      "x = pd.DataFrame(x, columns=['tups'])\n",
      "l1 = []\n",
      "for t in x['tups']:\n",
      "    l1.append(str(t[0].year) + 'Q' + str(t[0].quarter))\n",
      "\n",
      "x['max_drop'] = l1\n",
      "x['max_drop'].value_counts().plot(kind='bar', rot=45, figsize=(16, 10))"
     ],
     "language": "python",
     "metadata": {},
     "outputs": [
      {
       "output_type": "pyout",
       "prompt_number": 94,
       "text": [
        "<matplotlib.axes.AxesSubplot at 0x1113ee390>"
       ]
      }
     ],
     "prompt_number": 94
    },
    {
     "cell_type": "markdown",
     "metadata": {},
     "source": [
      "#Simple Trade Wedge: $\\hat{y}^f = \\varepsilon(\\hat{P} - \\hat{p}^f) + (\\hat{C + I})$"
     ]
    },
    {
     "cell_type": "code",
     "collapsed": false,
     "input": [
      "os.chdir('/Users/tom/TradeData/data-wrangling/Eurostat/trade_wedge/')\n",
      "from time_parsers import year_quarter\n",
      "\n",
      "gdp_c = pd.read_csv('chained_gdp.csv',\n",
      "    index_col=[1, 0], parse_dates=[1], date_parser=year_quarter, thousands=',',\n",
      "    na_values=':').drop(['UNIT', 'INDIC_NA', 'S_ADJ'], axis=1)\n",
      "gdp_c = gdp_c.unstack().stack(1)\n",
      "\n",
      "gdp_n = pd.read_csv('nominal_gdp.csv', index_col=[1, 0],\n",
      "    parse_dates=[1], date_parser=year_quarter, thousands=',',\n",
      "    na_values=':').drop(['UNIT', 'INDIC_NA', 'S_ADJ'], axis=1)\n",
      "gdp_n = gdp_n.unstack().stack(1)\n",
      "\n",
      "imports_c = pd.read_csv('chained_imports.csv', index_col=[0, 1],\n",
      "    parse_dates=[0], date_parser=year_quarter, thousands=',',\n",
      "    na_values=':').drop(['UNIT', 'INDIC_NA', 'S_ADJ'], axis=1)\n",
      "imports_c = imports_c.unstack().stack(1)\n",
      "\n",
      "imports_n = pd.read_csv('nominal_imports.csv', index_col=[0, 1],\n",
      "    parse_dates=[0], date_parser=year_quarter, thousands=',',\n",
      "    na_values=':').drop(['UNIT', 'INDIC_NA', 'S_ADJ'], axis=1)\n",
      "imports_n = imports_n.unstack().stack(1)\n",
      "\n",
      "demand_c = pd.read_csv('chained_demand.csv', index_col=[0, 1],\n",
      "    parse_dates=[0], date_parser=year_quarter, thousands=',',\n",
      "    na_values=':').drop(['UNIT', 'INDIC_NA', 'S_ADJ'], axis=1)\n",
      "demand_c = demand_c.unstack().stack(1)\n",
      "\n",
      "demand_n = pd.read_csv('nominal_demand.csv', index_col=[0, 1],\n",
      "    parse_dates=[0], date_parser=year_quarter, thousands=',',\n",
      "    na_values=':').drop(['UNIT', 'INDIC_NA', 'S_ADJ'], axis=1)\n",
      "demand_n = demand_n.unstack().stack(1)\n",
      "\n",
      "frames = [gdp_c, gdp_n, imports_c, imports_n, demand_c, demand_n]\n",
      "\n",
      "e1 = 1.5\n",
      "e2 = 6\n",
      "\n",
      "\n",
      "def trade_wedge(q1, q2, e=e1):\n",
      "    \"\"\"Calculate the trade wedge (defined below).\n",
      "    Call by passing two quarters (q1 < q2).\n",
      "    All in log changes.\n",
      "    hat{y^f} = e * (hat{P} - hat{p^f}) + hat{(C + I)}\n",
      "\n",
      "    hat: (log) change\n",
      "    y^f : (real) demand for imports\n",
      "    e : elasticity of substitution\n",
      "    P : GDP deflator (not log?)\n",
      "    p^f : import price deflator (not log?)\n",
      "    C + I : Domestic final demand (real consumption + real investment)\n",
      "\n",
      "    Suggested values for e = {3, 6}\n",
      "    \"\"\"\n",
      "\n",
      "    imp_delta = np.log(imports_c.ix[q2].Value) - np.log(imports_c.ix[q1].Value)\n",
      "\n",
      "    gdp_def_delta = np.log((gdp_n.ix[q2].Value / gdp_c.ix[q2].Value) * 100) - np.log((\n",
      "        gdp_n.ix[q1].Value / gdp_c.ix[q1].Value) * 100)\n",
      "\n",
      "    imp_def_delta = np.log((imports_n.ix[q2].Value / imports_c.ix[q2].Value) * 100) - np.log((\n",
      "        imports_n.ix[q1].Value / imports_c.ix[q1].Value) * 100)\n",
      "\n",
      "    demand_delta = np.log(demand_c.ix[q2].Value) - np.log(demand_c.ix[q1].Value)\n",
      "\n",
      "    wedge = imp_delta - e * (gdp_def_delta - imp_def_delta) + demand_delta\n",
      "\n",
      "    wedge = wedge.rename({'Euro area (17 countries)': 'EU17',\n",
      "                'European Union (27 countries)': 'EU27',\n",
      "                'Former Yugoslav Republic of Macedonia, the':'Macedonia',\n",
      "                'Germany (including  former GDR from 1991)':'Germany'\n",
      "                })\n",
      "    return wedge\n"
     ],
     "language": "python",
     "metadata": {},
     "outputs": [],
     "prompt_number": 2
    },
    {
     "cell_type": "code",
     "collapsed": false,
     "input": [
      "wedges = trade_wedge('2008-06-01', '2009-06-01')\n",
      "wedges.order(ascending=False).plot(kind='barh', figsize=(20,20))\n",
      "# plt.show()"
     ],
     "language": "python",
     "metadata": {},
     "outputs": [
      {
       "output_type": "pyout",
       "prompt_number": 5,
       "text": [
        "<matplotlib.axes.AxesSubplot at 0x1106502d0>"
       ]
      }
     ],
     "prompt_number": 5
    },
    {
     "cell_type": "code",
     "collapsed": false,
     "input": [
      "plt.figure()\n",
      "wedges_6 = trade_wedge('2008-06-01', '2009-06-01', e=6)\n",
      "wedges_6.order(ascending=False).plot(kind='barh', figsize=(20,20))"
     ],
     "language": "python",
     "metadata": {},
     "outputs": [
      {
       "output_type": "pyout",
       "prompt_number": 6,
       "text": [
        "<matplotlib.axes.AxesSubplot at 0x1106888d0>"
       ]
      }
     ],
     "prompt_number": 6
    },
    {
     "cell_type": "markdown",
     "metadata": {},
     "source": [
      "# Sample Data"
     ]
    },
    {
     "cell_type": "code",
     "collapsed": false,
     "input": [
      "os.chdir('/Volumes/HDD/Users/tom/DataStorage/Comext')\n",
      "\n",
      "\n",
      "monthly = pd.HDFStore('monthly.h5')\n",
      "df = monthly['sep_10']\n",
      "df.head()"
     ],
     "language": "python",
     "metadata": {},
     "outputs": [
      {
       "ename": "IOError",
       "evalue": "[Errno 2] No such file or directory: 'product_dict.pkl'",
       "output_type": "pyerr",
       "traceback": [
        "\u001b[0;31m---------------------------------------------------------------------------\u001b[0m\n\u001b[0;31mIOError\u001b[0m                                   Traceback (most recent call last)",
        "\u001b[0;32m<ipython-input-118-75011a4c1b97>\u001b[0m in \u001b[0;36m<module>\u001b[0;34m()\u001b[0m\n\u001b[1;32m      1\u001b[0m \u001b[0mos\u001b[0m\u001b[0;34m.\u001b[0m\u001b[0mchdir\u001b[0m\u001b[0;34m(\u001b[0m\u001b[0;34m'/Volumes/HDD/Users/tom/DataStorage/Comext'\u001b[0m\u001b[0;34m)\u001b[0m\u001b[0;34m\u001b[0m\u001b[0m\n\u001b[0;32m----> 2\u001b[0;31m \u001b[0;32mwith\u001b[0m \u001b[0mopen\u001b[0m\u001b[0;34m(\u001b[0m\u001b[0;34m'product_dict.pkl'\u001b[0m\u001b[0;34m,\u001b[0m \u001b[0;34m'r'\u001b[0m\u001b[0;34m)\u001b[0m \u001b[0;32mas\u001b[0m \u001b[0mf\u001b[0m\u001b[0;34m:\u001b[0m\u001b[0;34m\u001b[0m\u001b[0m\n\u001b[0m\u001b[1;32m      3\u001b[0m     \u001b[0md\u001b[0m \u001b[0;34m=\u001b[0m \u001b[0mload\u001b[0m\u001b[0;34m(\u001b[0m\u001b[0mf\u001b[0m\u001b[0;34m)\u001b[0m\u001b[0;34m\u001b[0m\u001b[0m\n\u001b[1;32m      4\u001b[0m \u001b[0;34m\u001b[0m\u001b[0m\n\u001b[1;32m      5\u001b[0m \u001b[0mmonthly\u001b[0m \u001b[0;34m=\u001b[0m \u001b[0mpd\u001b[0m\u001b[0;34m.\u001b[0m\u001b[0mHDFStore\u001b[0m\u001b[0;34m(\u001b[0m\u001b[0;34m'monthly.h5'\u001b[0m\u001b[0;34m)\u001b[0m\u001b[0;34m\u001b[0m\u001b[0m\n",
        "\u001b[0;31mIOError\u001b[0m: [Errno 2] No such file or directory: 'product_dict.pkl'"
       ]
      }
     ],
     "prompt_number": 118
    },
    {
     "cell_type": "code",
     "collapsed": false,
     "input": [
      "os.chdir('yearly')\n",
      "with open('product_dict.pkl', 'r') as f:\n",
      "    d = load(f)\n",
      "\n",
      "yearly = pd.HDFStore('yearly.h5')\n",
      "df = yearly['y2011']\n",
      "df.head()\n"
     ],
     "language": "python",
     "metadata": {},
     "outputs": [
      {
       "html": [
        "<div style=\"max-height:1000px;max-width:1500px;overflow:auto;\">\n",
        "<table border=\"1\" class=\"dataframe\">\n",
        "  <thead>\n",
        "    <tr style=\"text-align: right;\">\n",
        "      <th></th>\n",
        "      <th></th>\n",
        "      <th></th>\n",
        "      <th></th>\n",
        "      <th></th>\n",
        "      <th>STAT_REGIME</th>\n",
        "      <th>VALUE_1000ECU</th>\n",
        "      <th>QUANTITY_TON</th>\n",
        "      <th>SUP_QUANTITY</th>\n",
        "    </tr>\n",
        "    <tr>\n",
        "      <th>FLOW</th>\n",
        "      <th>PERIOD</th>\n",
        "      <th>PRODUCT_NC</th>\n",
        "      <th>DECLARANT</th>\n",
        "      <th>PARTNER</th>\n",
        "      <th></th>\n",
        "      <th></th>\n",
        "      <th></th>\n",
        "      <th></th>\n",
        "    </tr>\n",
        "  </thead>\n",
        "  <tbody>\n",
        "    <tr>\n",
        "      <td rowspan=\"5\" valign=\"top\"><strong>1</strong></td>\n",
        "      <td rowspan=\"5\" valign=\"top\"><strong>201152</strong></td>\n",
        "      <td rowspan=\"5\" valign=\"top\"><strong>01</strong></td>\n",
        "      <td rowspan=\"5\" valign=\"top\"><strong>001</strong></td>\n",
        "      <td><strong>3</strong></td>\n",
        "      <td> 4</td>\n",
        "      <td> 47949.05</td>\n",
        "      <td> 10019.7</td>\n",
        "      <td> 0</td>\n",
        "    </tr>\n",
        "    <tr>\n",
        "      <td><strong>4</strong></td>\n",
        "      <td> 4</td>\n",
        "      <td> 17473.80</td>\n",
        "      <td>  2724.0</td>\n",
        "      <td> 0</td>\n",
        "    </tr>\n",
        "    <tr>\n",
        "      <td><strong>5</strong></td>\n",
        "      <td> 4</td>\n",
        "      <td>  6537.12</td>\n",
        "      <td>   369.9</td>\n",
        "      <td> 0</td>\n",
        "    </tr>\n",
        "    <tr>\n",
        "      <td><strong>6</strong></td>\n",
        "      <td> 4</td>\n",
        "      <td> 35249.45</td>\n",
        "      <td>  1413.6</td>\n",
        "      <td> 0</td>\n",
        "    </tr>\n",
        "    <tr>\n",
        "      <td><strong>7</strong></td>\n",
        "      <td> 4</td>\n",
        "      <td>  5380.30</td>\n",
        "      <td>   126.2</td>\n",
        "      <td> 0</td>\n",
        "    </tr>\n",
        "  </tbody>\n",
        "</table>\n",
        "</div>"
       ],
       "output_type": "pyout",
       "prompt_number": 119,
       "text": [
        "                                          STAT_REGIME  VALUE_1000ECU  QUANTITY_TON  SUP_QUANTITY\n",
        "FLOW PERIOD PRODUCT_NC DECLARANT PARTNER                                                        \n",
        "1    201152 01         001       3                  4       47949.05       10019.7             0\n",
        "                                 4                  4       17473.80        2724.0             0\n",
        "                                 5                  4        6537.12         369.9             0\n",
        "                                 6                  4       35249.45        1413.6             0\n",
        "                                 7                  4        5380.30         126.2             0"
       ]
      }
     ],
     "prompt_number": 119
    },
    {
     "cell_type": "code",
     "collapsed": false,
     "input": [
      "# d"
     ],
     "language": "python",
     "metadata": {},
     "outputs": [],
     "prompt_number": 141
    },
    {
     "cell_type": "code",
     "collapsed": false,
     "input": [
      "df.xs((1, 201152, '01', '001'), level=('FLOW', 'PERIOD', 'PRODUCT_NC', 'DECLARANT'))['VALUE_1000ECU']"
     ],
     "language": "python",
     "metadata": {},
     "outputs": [
      {
       "output_type": "pyout",
       "prompt_number": 113,
       "text": [
        "PARTNER\n",
        "3           47949.05\n",
        "4           17473.80\n",
        "5            6537.12\n",
        "6           35249.45\n",
        "7            5380.30\n",
        "8            2409.74\n",
        "9              21.91\n",
        "10             50.61\n",
        "11          48327.12\n",
        "17          38339.10\n",
        "18            225.99\n",
        "24              6.12\n",
        "28              4.72\n",
        "30            605.49\n",
        "32             13.00\n",
        "38             56.36\n",
        "39              8.39\n",
        "39           1061.71\n",
        "43              1.30\n",
        "52            461.92\n",
        "55              4.00\n",
        "60           1801.77\n",
        "61           1448.02\n",
        "63             34.02\n",
        "64           4748.67\n",
        "66           1388.92\n",
        "68             58.31\n",
        "72             15.22\n",
        "75            137.82\n",
        "79              0.08\n",
        "81             19.03\n",
        "91             17.79\n",
        "96             25.70\n",
        "204            88.12\n",
        "208             5.48\n",
        "212            49.14\n",
        "220            64.19\n",
        "272             0.50\n",
        "276             9.80\n",
        "280            64.64\n",
        "284             1.76\n",
        "346             7.25\n",
        "352             4.11\n",
        "355            25.11\n",
        "370            36.42\n",
        "373          7883.45\n",
        "378            14.21\n",
        "382             0.50\n",
        "388             6.46\n",
        "400          8699.33\n",
        "404           669.74\n",
        "428            12.13\n",
        "432             3.92\n",
        "469           323.50\n",
        "480             8.13\n",
        "508            10.46\n",
        "512            34.43\n",
        "524             3.80\n",
        "528           213.94\n",
        "624           108.35\n",
        "628            14.20\n",
        "632            36.72\n",
        "644            73.22\n",
        "647          2438.20\n",
        "649            29.58\n",
        "662             0.00\n",
        "664             0.00\n",
        "669             0.00\n",
        "680             0.50\n",
        "690          2422.91\n",
        "700            25.88\n",
        "701            16.21\n",
        "706             8.96\n",
        "708           405.40\n",
        "720          2862.65\n",
        "728            15.11\n",
        "732           973.63\n",
        "736             0.49\n",
        "740             4.23\n",
        "800            11.23\n",
        "804            60.74\n",
        "809             5.50\n",
        "822             2.00\n",
        "951             0.50\n",
        "1010       212141.04\n",
        "1011            8.39\n",
        "1011        29489.85\n",
        "Name: VALUE_1000ECU, Length: 87"
       ]
      }
     ],
     "prompt_number": 113
    },
    {
     "cell_type": "code",
     "collapsed": false,
     "input": [
      "df"
     ],
     "language": "python",
     "metadata": {},
     "outputs": [
      {
       "output_type": "pyout",
       "prompt_number": 111,
       "text": [
        "<class 'pandas.core.frame.DataFrame'>\n",
        "MultiIndex: 10430373 entries, (1, 201152, 01, 001, 3) to (2, 201152, TOTAL, EU, 1011)\n",
        "Data columns:\n",
        "STAT_REGIME      10430373  non-null values\n",
        "VALUE_1000ECU    10430373  non-null values\n",
        "QUANTITY_TON     10430373  non-null values\n",
        "SUP_QUANTITY     10430373  non-null values\n",
        "dtypes: float64(2), int64(2)"
       ]
      }
     ],
     "prompt_number": 111
    },
    {
     "cell_type": "code",
     "collapsed": false,
     "input": [
      "len(df) * 9 * 5"
     ],
     "language": "python",
     "metadata": {},
     "outputs": [
      {
       "output_type": "pyout",
       "prompt_number": 16,
       "text": [
        "469366785"
       ]
      }
     ],
     "prompt_number": 16
    }
   ],
   "metadata": {}
  }
 ]
}